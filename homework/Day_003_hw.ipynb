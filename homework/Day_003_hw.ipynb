{
 "cells": [
  {
   "cell_type": "markdown",
   "metadata": {},
   "source": [
    "<img src=\"https://docs.julialang.org/en/v1/assets/logo.png\" width=\"200\">\n",
    "\n",
    "# Julia 套件管理 (Package Management)\n",
    "\n",
    "## Day 003 作業\n",
    "\n",
    "在接下來的課程中，我們還會用到許多不同套件，請在今天的作業中先行安裝下列套件：`CSV.jl` （將會在資料操作的單元介紹）。"
   ]
  },
  {
   "cell_type": "markdown",
   "metadata": {},
   "source": [
    "### 指定安裝套件及版本\n",
    "\n",
    "今日作業請以 Functional API 模式進行套件安裝，並且指定安裝 0.5.14 版。\n",
    "\n",
    "安裝完成後請呼叫 `Pkg.installed()` 函式檢查已安裝的版本。"
   ]
  },
  {
   "cell_type": "code",
   "execution_count": 1,
   "metadata": {},
   "outputs": [
    {
     "name": "stdout",
     "output_type": "stream",
     "text": [
      "\u001b[32m\u001b[1m  Updating\u001b[22m\u001b[39m registry at `C:\\Users\\USER\\.julia\\registries\\General`\n",
      "\u001b[32m\u001b[1m  Updating\u001b[22m\u001b[39m git-repo `https://github.com/JuliaRegistries/General.git`\n",
      "\u001b[2K\u001b[?25h\u001b[32m\u001b[1m Resolving\u001b[22m\u001b[39m package versions...===============>]  100.0 %.0 %\n"
     ]
    },
    {
     "ename": "Pkg.Types.ResolverError",
     "evalue": "Unsatisfiable requirements detected for package Tables [bd369af6]:\n Tables [bd369af6] log:\n ├─possible versions are: [0.1.0-0.1.15, 0.1.17-0.1.19, 0.2.0-0.2.11, 1.0.0-1.0.3] or uninstalled\n ├─restricted by compatibility requirements with CSV [336ed68f] to versions: [0.1.0-0.1.15, 0.1.17-0.1.19, 0.2.0-0.2.11]\n │ └─CSV [336ed68f] log:\n │   ├─possible versions are: [0.3.0-0.3.1, 0.4.0-0.4.3, 0.5.0-0.5.26] or uninstalled\n │   └─restricted to versions 0.5.14 by an explicit requirement, leaving only versions 0.5.14\n └─restricted by compatibility requirements with DataFrames [a93c6f00] to versions: 1.0.0-1.0.3 — no versions left\n   └─DataFrames [a93c6f00] log:\n     ├─possible versions are: [0.11.7, 0.12.0, 0.13.0-0.13.1, 0.14.0-0.14.1, 0.15.0-0.15.2, 0.16.0, 0.17.0-0.17.1, 0.18.0-0.18.4, 0.19.0-0.19.4, 0.20.0-0.20.2] or uninstalled\n     └─restricted to versions 0.20.2 by an explicit requirement, leaving only versions 0.20.2",
     "output_type": "error",
     "traceback": [
      "Unsatisfiable requirements detected for package Tables [bd369af6]:\n Tables [bd369af6] log:\n ├─possible versions are: [0.1.0-0.1.15, 0.1.17-0.1.19, 0.2.0-0.2.11, 1.0.0-1.0.3] or uninstalled\n ├─restricted by compatibility requirements with CSV [336ed68f] to versions: [0.1.0-0.1.15, 0.1.17-0.1.19, 0.2.0-0.2.11]\n │ └─CSV [336ed68f] log:\n │   ├─possible versions are: [0.3.0-0.3.1, 0.4.0-0.4.3, 0.5.0-0.5.26] or uninstalled\n │   └─restricted to versions 0.5.14 by an explicit requirement, leaving only versions 0.5.14\n └─restricted by compatibility requirements with DataFrames [a93c6f00] to versions: 1.0.0-1.0.3 — no versions left\n   └─DataFrames [a93c6f00] log:\n     ├─possible versions are: [0.11.7, 0.12.0, 0.13.0-0.13.1, 0.14.0-0.14.1, 0.15.0-0.15.2, 0.16.0, 0.17.0-0.17.1, 0.18.0-0.18.4, 0.19.0-0.19.4, 0.20.0-0.20.2] or uninstalled\n     └─restricted to versions 0.20.2 by an explicit requirement, leaving only versions 0.20.2",
      "",
      "Stacktrace:",
      " [1] #propagate_constraints!#61(::Bool, ::typeof(Pkg.GraphType.propagate_constraints!), ::Pkg.GraphType.Graph, ::Set{Int64}) at C:\\cygwin\\home\\Administrator\\buildbot\\worker\\package_win64\\build\\usr\\share\\julia\\stdlib\\v1.2\\Pkg\\src\\GraphType.jl:1007",
      " [2] propagate_constraints! at C:\\cygwin\\home\\Administrator\\buildbot\\worker\\package_win64\\build\\usr\\share\\julia\\stdlib\\v1.2\\Pkg\\src\\GraphType.jl:948 [inlined]",
      " [3] #simplify_graph!#121(::Bool, ::typeof(Pkg.GraphType.simplify_graph!), ::Pkg.GraphType.Graph, ::Set{Int64}) at C:\\cygwin\\home\\Administrator\\buildbot\\worker\\package_win64\\build\\usr\\share\\julia\\stdlib\\v1.2\\Pkg\\src\\GraphType.jl:1462",
      " [4] simplify_graph! at C:\\cygwin\\home\\Administrator\\buildbot\\worker\\package_win64\\build\\usr\\share\\julia\\stdlib\\v1.2\\Pkg\\src\\GraphType.jl:1462 [inlined] (repeats 2 times)",
      " [5] resolve_versions!(::Pkg.Types.Context, ::Array{Pkg.Types.PackageSpec,1}) at C:\\cygwin\\home\\Administrator\\buildbot\\worker\\package_win64\\build\\usr\\share\\julia\\stdlib\\v1.2\\Pkg\\src\\Operations.jl:317",
      " [6] #add#100(::Bool, ::typeof(Pkg.Operations.add), ::Pkg.Types.Context, ::Array{Pkg.Types.PackageSpec,1}, ::Array{Base.UUID,1}) at C:\\cygwin\\home\\Administrator\\buildbot\\worker\\package_win64\\build\\usr\\share\\julia\\stdlib\\v1.2\\Pkg\\src\\Operations.jl:962",
      " [7] #add at .\\none:0 [inlined]",
      " [8] #add#25(::Bool, ::Base.Iterators.Pairs{Union{},Union{},Tuple{},NamedTuple{(),Tuple{}}}, ::typeof(Pkg.API.add), ::Pkg.Types.Context, ::Array{Pkg.Types.PackageSpec,1}) at C:\\cygwin\\home\\Administrator\\buildbot\\worker\\package_win64\\build\\usr\\share\\julia\\stdlib\\v1.2\\Pkg\\src\\API.jl:99",
      " [9] add at C:\\cygwin\\home\\Administrator\\buildbot\\worker\\package_win64\\build\\usr\\share\\julia\\stdlib\\v1.2\\Pkg\\src\\API.jl:69 [inlined]",
      " [10] #add#24 at C:\\cygwin\\home\\Administrator\\buildbot\\worker\\package_win64\\build\\usr\\share\\julia\\stdlib\\v1.2\\Pkg\\src\\API.jl:67 [inlined]",
      " [11] add at C:\\cygwin\\home\\Administrator\\buildbot\\worker\\package_win64\\build\\usr\\share\\julia\\stdlib\\v1.2\\Pkg\\src\\API.jl:67 [inlined]",
      " [12] #add#20 at C:\\cygwin\\home\\Administrator\\buildbot\\worker\\package_win64\\build\\usr\\share\\julia\\stdlib\\v1.2\\Pkg\\src\\API.jl:64 [inlined]",
      " [13] add(::Pkg.Types.PackageSpec) at C:\\cygwin\\home\\Administrator\\buildbot\\worker\\package_win64\\build\\usr\\share\\julia\\stdlib\\v1.2\\Pkg\\src\\API.jl:64",
      " [14] top-level scope at In[1]:2"
     ]
    }
   ],
   "source": [
    "using Pkg\n",
    "\n",
    "Pkg.add(PackageSpec(name=\"CSV\", version=\"0.5.14\"))"
   ]
  },
  {
   "cell_type": "markdown",
   "metadata": {},
   "source": [
    "### 不指定安裝版本"
   ]
  },
  {
   "cell_type": "code",
   "execution_count": 4,
   "metadata": {},
   "outputs": [
    {
     "name": "stdout",
     "output_type": "stream",
     "text": [
      "\u001b[32m\u001b[1m Resolving\u001b[22m\u001b[39m package versions...\n",
      "\u001b[32m\u001b[1m Installed\u001b[22m\u001b[39m WeakRefStrings ─ v0.6.2\n",
      "\u001b[32m\u001b[1m Installed\u001b[22m\u001b[39m FilePathsBase ── v0.7.0\n",
      "\u001b[32m\u001b[1m Installed\u001b[22m\u001b[39m CSV ──────────── v0.5.26\n",
      "\u001b[32m\u001b[1m  Updating\u001b[22m\u001b[39m `C:\\Users\\USER\\.julia\\environments\\v1.2\\Project.toml`\n",
      " \u001b[90m [336ed68f]\u001b[39m\u001b[92m + CSV v0.5.26\u001b[39m\n",
      "\u001b[32m\u001b[1m  Updating\u001b[22m\u001b[39m `C:\\Users\\USER\\.julia\\environments\\v1.2\\Manifest.toml`\n",
      " \u001b[90m [336ed68f]\u001b[39m\u001b[92m + CSV v0.5.26\u001b[39m\n",
      " \u001b[90m [48062228]\u001b[39m\u001b[92m + FilePathsBase v0.7.0\u001b[39m\n",
      " \u001b[90m [ea10d353]\u001b[39m\u001b[92m + WeakRefStrings v0.6.2\u001b[39m\n"
     ]
    }
   ],
   "source": [
    "using Pkg\n",
    "\n",
    "Pkg.add(\"CSV\")"
   ]
  },
  {
   "cell_type": "code",
   "execution_count": 6,
   "metadata": {},
   "outputs": [
    {
     "data": {
      "text/plain": [
       "Dict{String,Union{Nothing, VersionNumber}} with 3 entries:\n",
       "  \"CSV\"        => v\"0.5.26\"\n",
       "  \"IJulia\"     => v\"1.21.1\"\n",
       "  \"DataFrames\" => v\"0.20.2\""
      ]
     },
     "execution_count": 6,
     "metadata": {},
     "output_type": "execute_result"
    }
   ],
   "source": [
    "Pkg.installed()"
   ]
  },
  {
   "cell_type": "code",
   "execution_count": null,
   "metadata": {},
   "outputs": [],
   "source": []
  }
 ],
 "metadata": {
  "kernelspec": {
   "display_name": "Julia 1.2.0",
   "language": "julia",
   "name": "julia-1.2"
  },
  "language_info": {
   "file_extension": ".jl",
   "mimetype": "application/julia",
   "name": "julia",
   "version": "1.2.0"
  }
 },
 "nbformat": 4,
 "nbformat_minor": 4
}
